{
 "cells": [
  {
   "cell_type": "code",
   "execution_count": 44,
   "metadata": {},
   "outputs": [],
   "source": [
    "from modulo import funciones\n",
    "names = \"\"\" Agustin, Yanina, Andrés, Ariadna, Bautista, CAROLINA, CESAR, David, Diego, Dolores, DYLAN, ELIANA, Emanuel, Fabián, Noelia, Francsica, FEDERICO, Fernanda, GONZALO, Nancy \"\"\"\n",
    "goals = [0, 10, 4, 0, 5, 14, 0, 0, 7, 2, 1, 1, 1, 5, 6, 1, 1, 2, 0,\n",
    "11]\n",
    "goals_avoided = [0, 2, 0, 0, 5, 2, 0, 0, 1, 2, 0, 5, 5, 0, 1, 0, 2,\n",
    "3, 0, 0]\n",
    "assists = [0, 5, 1, 0, 5, 2, 0, 0, 1, 2, 1, 5, 5, 0, 1, 0, 2, 3, 1,\n",
    "0]"
   ]
  },
  {
   "cell_type": "markdown",
   "metadata": {},
   "source": [
    "Dadas las estructuras proporcionadas por el enunciado, primero separe los nombres de los jugadores en una lista llamada 'nombres'.\n",
    "Luego importo las funciones de la carpeta modulo.\n",
    "En la variable estructura invoco a la funcion 'generarEstructura' y le paso como parametros las listas\n",
    "Dicha funcion devuelve un diccionario donde dentro de este diccionario tiene los datos de cada jugador "
   ]
  },
  {
   "cell_type": "code",
   "execution_count": null,
   "metadata": {},
   "outputs": [],
   "source": [
    "nombres = names.split(',')\n",
    "\n",
    "estructura = funciones.generarEstructura(nombres, goals, goals_avoided, assists)"
   ]
  },
  {
   "cell_type": "markdown",
   "metadata": {},
   "source": [
    "Esta funcion devuelve el goleadxr con mayor cantidad de goles"
   ]
  },
  {
   "cell_type": "code",
   "execution_count": null,
   "metadata": {},
   "outputs": [],
   "source": [
    "funciones.imprimirGoleadxr(estructura)\n"
   ]
  },
  {
   "cell_type": "markdown",
   "metadata": {},
   "source": [
    "Utiliza una comprensión de diccionario para calcular los puntajes de todos los jugadores en el diccionario \"estructura\"\n",
    "Luego, utiliza la función max() junto con la opción key para encontrar el nombre del jugador con el puntaje más alto en el diccionario \"puntajes\".\n",
    "\n",
    "Finalmente, imprime el nombre del jugador más influyente y su puntaje correspondiente."
   ]
  },
  {
   "cell_type": "code",
   "execution_count": null,
   "metadata": {},
   "outputs": [],
   "source": [
    "\n",
    "\n",
    "puntajes = {nombre: funciones.calcular_puntaje(datos) for nombre, datos in estructura.items()}\n",
    "jugador_mas_influyente = max(puntajes, key=puntajes.get)\n",
    "\n",
    "print(\"El jugador mas influyente es: \",jugador_mas_influyente,\" con un puntaje de\", puntajes[jugador_mas_influyente])\n"
   ]
  },
  {
   "cell_type": "markdown",
   "metadata": {},
   "source": [
    "\n",
    "Para calcular el promedio de goles por partido del equipo en general, necesitamos sumar todos los goles marcados por el equipo en los 25 partidos y luego dividir esa suma por el número total de partidos.\n",
    "en la variable total_goles sumamos todos los goles de la lista \"goals\" con la funcion \"sum\"\n",
    "luego invocamos a la funcion calcular promedio que retorna el promedio de goles por partido."
   ]
  },
  {
   "cell_type": "code",
   "execution_count": null,
   "metadata": {},
   "outputs": [],
   "source": [
    "total_goles = sum(goals)\n",
    "\n",
    "print(\"El promedio de goles por partido del equipo en general es:\", funciones.calcular_promedio(total_goles))\n"
   ]
  },
  {
   "cell_type": "markdown",
   "metadata": {},
   "source": [
    "\n",
    "Para calcular el promedio de goles por partido del goleador o goleadora, primero necesitamos identificar quién es el jugador con más goles, luego dividimos la cantidad total de goles de ese jugador entre el número de partidos jugados.\n",
    "Este código primero identifica al jugador con más goles utilizando la función max(). Luego, accede a la cantidad de goles de ese jugador en la estructura de datos estructura. Después, calcula el promedio de goles por partido dividiendo los goles totales del goleador o goleadora entre el número de partidos, que es 25 en este caso."
   ]
  },
  {
   "cell_type": "code",
   "execution_count": null,
   "metadata": {},
   "outputs": [],
   "source": [
    "funciones.promedio_goles_goleador(estructura)"
   ]
  }
 ],
 "metadata": {
  "kernelspec": {
   "display_name": "Python 3.11.7 64-bit ('3.11.7')",
   "language": "python",
   "name": "python3"
  },
  "language_info": {
   "codemirror_mode": {
    "name": "ipython",
    "version": 3
   },
   "file_extension": ".py",
   "mimetype": "text/x-python",
   "name": "python",
   "nbconvert_exporter": "python",
   "pygments_lexer": "ipython3",
   "version": "3.11.7"
  },
  "orig_nbformat": 4,
  "vscode": {
   "interpreter": {
    "hash": "0acaffd26ac639a0b5c1a03c9d9dadf39e0e394a40e09ea76bf9bb1212da3dcf"
   }
  }
 },
 "nbformat": 4,
 "nbformat_minor": 2
}
